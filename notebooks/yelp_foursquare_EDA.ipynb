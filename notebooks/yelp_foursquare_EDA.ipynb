{
 "cells": [
  {
   "cell_type": "code",
   "execution_count": 1,
   "metadata": {
    "tags": []
   },
   "outputs": [],
   "source": [
    "import json\n",
    "import requests\n",
    "import numpy as np\n",
    "import pandas as pd\n",
    "import os\n",
    "station_df = pd.read_csv(\"station_df.csv\")"
   ]
  },
  {
   "cell_type": "markdown",
   "metadata": {
    "tags": []
   },
   "source": [
    "# Foursquare"
   ]
  },
  {
   "cell_type": "markdown",
   "metadata": {},
   "source": [
    "Function to get business data response from Foursquare providing latitude and longitude"
   ]
  },
  {
   "cell_type": "code",
   "execution_count": 2,
   "metadata": {
    "tags": []
   },
   "outputs": [],
   "source": [
    "FoursquareAPIKey = os.environ[\"FoursquareAPIKey\"]\n",
    "YelpAPIKey = os.environ[\"YelpAPIKey\"]"
   ]
  },
  {
   "cell_type": "code",
   "execution_count": 3,
   "metadata": {},
   "outputs": [],
   "source": [
    "def foursquare_search(latitude,longitude):\n",
    "    url = \"https://api.foursquare.com/v3/places/search?ll=\" + str(latitude) + \"%2C\" + str(longitude) + \"&radius=1000&categories=13000\"\n",
    "\n",
    "    headers = {\n",
    "        \"accept\": \"application/json\",\n",
    "        \"Authorization\": FoursquareAPIKey\n",
    "    }\n",
    "    response = requests.get(url, headers=headers)\n",
    "    return response"
   ]
  },
  {
   "cell_type": "markdown",
   "metadata": {},
   "source": [
    "Function to get businesses' rating and price response from Foursquare providing business id"
   ]
  },
  {
   "cell_type": "code",
   "execution_count": 4,
   "metadata": {
    "tags": []
   },
   "outputs": [],
   "source": [
    "def foursquare_detail(fsq_id):\n",
    "    url = \"https://api.foursquare.com/v3/places/\" + fsq_id + \"?fields=rating%2Cprice\"\n",
    "    headers = {\n",
    "        \"accept\": \"application/json\",\n",
    "        \"Authorization\": FoursquareAPIKey\n",
    "    }\n",
    "    response = requests.get(url, headers=headers)\n",
    "    return response"
   ]
  },
  {
   "cell_type": "markdown",
   "metadata": {
    "tags": []
   },
   "source": [
    "Request to Foursquare with a small radius (1000m) for all the bike stations in your city of choice. "
   ]
  },
  {
   "cell_type": "code",
   "execution_count": 5,
   "metadata": {
    "tags": []
   },
   "outputs": [],
   "source": [
    "#define final Foursquare dataframe\n",
    "foursquare_df = pd.DataFrame()\n",
    "#to limit the number of API call in order for the local computer to run the code\n",
    "limit = 50\n",
    "for index in range(len(station_df)):\n",
    "    #to limit the number of API call in order for the local computer to run the code\n",
    "    limit -= 1\n",
    "    if limit < 0: break\n",
    "    #call latitude and longitude from citybike.csv\n",
    "    try:\n",
    "        latitude = station_df['latitude'][index]\n",
    "        longitude = station_df['longitude'][index]\n",
    "         #call API request from Foursquare to get restaurants data\n",
    "        responseSearch = foursquare_search(latitude,longitude)  \n",
    "        #parse through response to get restaurants id and name\n",
    "        business_list = responseSearch.json()['results']\n",
    "        neededData = ['fsq_id','name','distance','location.address']\n",
    "        temp_df = pd.json_normalize(business_list)[neededData]\n",
    "        #adding station data to the temporary dataframe \n",
    "        temp_df['station latitude'] = latitude\n",
    "        temp_df['station longitude'] = longitude\n",
    "        temp_df['number of bikes'] = station_df['number of bikes'][index]\n",
    "        temp_df['station id'] = station_df['station id'][index].astype(int)\n",
    "        #add parsed data to Foursquare dataframe\n",
    "        foursquare_df = pd.concat([foursquare_df, temp_df], axis=0,ignore_index=True)\n",
    "    except:\n",
    "        continue"
   ]
  },
  {
   "cell_type": "markdown",
   "metadata": {
    "tags": []
   },
   "source": [
    "Call API request to get price and rating for all business in foursquare dataframe and add those data to foursquare dataframe"
   ]
  },
  {
   "cell_type": "code",
   "execution_count": 6,
   "metadata": {
    "tags": []
   },
   "outputs": [],
   "source": [
    "price = []\n",
    "rating = []\n",
    "for index in range(len(foursquare_df)):\n",
    "    responseDetail = foursquare_detail(foursquare_df['fsq_id'][index])\n",
    "    try:\n",
    "        price.append(responseDetail.json()['price'])\n",
    "    except:\n",
    "        price.append(np.nan)\n",
    "    try:\n",
    "        rating.append(responseDetail.json()['rating'])\n",
    "    except:\n",
    "        rating.append(np.nan)"
   ]
  },
  {
   "cell_type": "code",
   "execution_count": 7,
   "metadata": {
    "tags": []
   },
   "outputs": [],
   "source": [
    "foursquare_df['price'] = price\n",
    "foursquare_df['rating'] = rating"
   ]
  },
  {
   "cell_type": "markdown",
   "metadata": {},
   "source": [
    "# Yelp"
   ]
  },
  {
   "cell_type": "markdown",
   "metadata": {},
   "source": [
    "Function to get response from Yelp providing latitude and longitude"
   ]
  },
  {
   "cell_type": "code",
   "execution_count": 8,
   "metadata": {
    "tags": []
   },
   "outputs": [],
   "source": [
    "def yelp_request(latitude,longitude):\n",
    "    url = \"https://api.yelp.com/v3/businesses/search?latitude=\" + str(latitude) + \"&longitude=\" + str(longitude) + \"&term=restaurants&radius=1000&sort_by=best_match\"\n",
    "\n",
    "    headers = {\n",
    "        \"accept\": \"application/json\",\n",
    "        \"Authorization\": \"Bearer \" + YelpAPIKey\n",
    "    }\n",
    "    response = requests.get(url, headers=headers)\n",
    "    return response"
   ]
  },
  {
   "cell_type": "markdown",
   "metadata": {},
   "source": [
    "Send a request to Yelp with a small radius (1000m) for all the bike stations in your city of choice. "
   ]
  },
  {
   "cell_type": "code",
   "execution_count": 9,
   "metadata": {
    "tags": []
   },
   "outputs": [],
   "source": [
    "#define final Yelp dataframe\n",
    "yelp_df = pd.DataFrame()\n",
    "#to limit the number of API call in order for the local computer to run the code\n",
    "limit = 50\n",
    "for index in range(len(station_df)):\n",
    "    try:\n",
    "        #to limit the number of API call in order for the local computer to run the code\n",
    "        limit -= 1\n",
    "        if limit < 0: break\n",
    "        #call latitude and longitude from citybike.csv\n",
    "        latitude = station_df['latitude'][index]\n",
    "        longitude = station_df['longitude'][index]\n",
    "        #call API request from Yelp to get restaurants data\n",
    "        response = yelp_request(latitude,longitude)\n",
    "        #parse through response to get restaurants informations\n",
    "        business_list = response.json()['businesses']\n",
    "        neededData = ['name','review_count','rating','distance','price','location.address1']\n",
    "        temp_df = pd.json_normalize(business_list)[neededData]\n",
    "         #adding station data to the temporary dataframe \n",
    "        temp_df['station latitude'] = latitude\n",
    "        temp_df['station longitude'] = longitude\n",
    "        temp_df['number of bikes'] = station_df['number of bikes'][index]\n",
    "        temp_df['station id'] = station_df['station id'][index].astype(int)\n",
    "        #add parsed data to Yelp dataframe\n",
    "        yelp_df = pd.concat([yelp_df, temp_df], axis=0, ignore_index=True)\n",
    "    except:\n",
    "        continue"
   ]
  },
  {
   "cell_type": "markdown",
   "metadata": {},
   "source": [
    "Reformat price and rating data for Yelp dataframe"
   ]
  },
  {
   "cell_type": "code",
   "execution_count": 10,
   "metadata": {
    "tags": []
   },
   "outputs": [],
   "source": [
    "yelp_df['price'] = yelp_df['price'].replace('$',1).replace('$$',2).replace('$$$',3).replace('$$$$',4)\n",
    "yelp_df['rating'] = yelp_df['rating']*2"
   ]
  },
  {
   "cell_type": "markdown",
   "metadata": {},
   "source": [
    "Save dataframes to csv files"
   ]
  },
  {
   "cell_type": "code",
   "execution_count": 11,
   "metadata": {},
   "outputs": [],
   "source": [
    "foursquare_df.to_csv(\"foursquare_df.csv\", index = False) "
   ]
  },
  {
   "cell_type": "code",
   "execution_count": 12,
   "metadata": {
    "tags": []
   },
   "outputs": [],
   "source": [
    "yelp_df.to_csv(\"yelp_df.csv\", index = False) "
   ]
  },
  {
   "cell_type": "markdown",
   "metadata": {},
   "source": [
    "# Comparing Results"
   ]
  },
  {
   "cell_type": "markdown",
   "metadata": {},
   "source": [
    "Which API provided you with more complete data? Provide an explanation. "
   ]
  },
  {
   "cell_type": "markdown",
   "metadata": {},
   "source": [
    "Yelp API provides more data about the restaurants than Foursquare API . For the same number of stations, Yelp API usually provide more line of data than the Foursquare API."
   ]
  },
  {
   "cell_type": "markdown",
   "metadata": {},
   "source": [
    "Get the top 10 restaurants according to their rating"
   ]
  },
  {
   "cell_type": "code",
   "execution_count": 13,
   "metadata": {},
   "outputs": [
    {
     "data": {
      "text/html": [
       "<div>\n",
       "<style scoped>\n",
       "    .dataframe tbody tr th:only-of-type {\n",
       "        vertical-align: middle;\n",
       "    }\n",
       "\n",
       "    .dataframe tbody tr th {\n",
       "        vertical-align: top;\n",
       "    }\n",
       "\n",
       "    .dataframe thead th {\n",
       "        text-align: right;\n",
       "    }\n",
       "</style>\n",
       "<table border=\"1\" class=\"dataframe\">\n",
       "  <thead>\n",
       "    <tr style=\"text-align: right;\">\n",
       "      <th></th>\n",
       "      <th>fsq_id</th>\n",
       "      <th>name</th>\n",
       "      <th>distance</th>\n",
       "      <th>location.address</th>\n",
       "      <th>station latitude</th>\n",
       "      <th>station longitude</th>\n",
       "      <th>number of bikes</th>\n",
       "      <th>station id</th>\n",
       "      <th>price</th>\n",
       "      <th>rating</th>\n",
       "    </tr>\n",
       "  </thead>\n",
       "  <tbody>\n",
       "    <tr>\n",
       "      <th>450</th>\n",
       "      <td>5329cfc411d2ac08fecb088f</td>\n",
       "      <td>Italian Store</td>\n",
       "      <td>633</td>\n",
       "      <td>5837 Washington Blvd</td>\n",
       "      <td>38.880992</td>\n",
       "      <td>-77.135271</td>\n",
       "      <td>8.0</td>\n",
       "      <td>48</td>\n",
       "      <td>2.0</td>\n",
       "      <td>9.4</td>\n",
       "    </tr>\n",
       "    <tr>\n",
       "      <th>353</th>\n",
       "      <td>5e175e1c20e1b00008689d2d</td>\n",
       "      <td>Paris Baguette</td>\n",
       "      <td>916</td>\n",
       "      <td>8344 Broad St</td>\n",
       "      <td>38.928919</td>\n",
       "      <td>-77.225394</td>\n",
       "      <td>1.0</td>\n",
       "      <td>38</td>\n",
       "      <td>1.0</td>\n",
       "      <td>9.2</td>\n",
       "    </tr>\n",
       "    <tr>\n",
       "      <th>214</th>\n",
       "      <td>5e175e1c20e1b00008689d2d</td>\n",
       "      <td>Paris Baguette</td>\n",
       "      <td>218</td>\n",
       "      <td>8344 Broad St</td>\n",
       "      <td>38.922450</td>\n",
       "      <td>-77.230340</td>\n",
       "      <td>1.0</td>\n",
       "      <td>24</td>\n",
       "      <td>1.0</td>\n",
       "      <td>9.2</td>\n",
       "    </tr>\n",
       "    <tr>\n",
       "      <th>255</th>\n",
       "      <td>546f993e498efe71ca2acd25</td>\n",
       "      <td>Barcelona Wine Bar</td>\n",
       "      <td>254</td>\n",
       "      <td>12023 Town Square St</td>\n",
       "      <td>38.959633</td>\n",
       "      <td>-77.358741</td>\n",
       "      <td>6.0</td>\n",
       "      <td>28</td>\n",
       "      <td>2.0</td>\n",
       "      <td>9.1</td>\n",
       "    </tr>\n",
       "    <tr>\n",
       "      <th>278</th>\n",
       "      <td>546f993e498efe71ca2acd25</td>\n",
       "      <td>Barcelona Wine Bar</td>\n",
       "      <td>681</td>\n",
       "      <td>12023 Town Square St</td>\n",
       "      <td>38.960084</td>\n",
       "      <td>-77.353414</td>\n",
       "      <td>0.0</td>\n",
       "      <td>30</td>\n",
       "      <td>2.0</td>\n",
       "      <td>9.1</td>\n",
       "    </tr>\n",
       "    <tr>\n",
       "      <th>308</th>\n",
       "      <td>546f993e498efe71ca2acd25</td>\n",
       "      <td>Barcelona Wine Bar</td>\n",
       "      <td>859</td>\n",
       "      <td>12023 Town Square St</td>\n",
       "      <td>38.955079</td>\n",
       "      <td>-77.351649</td>\n",
       "      <td>5.0</td>\n",
       "      <td>33</td>\n",
       "      <td>2.0</td>\n",
       "      <td>9.1</td>\n",
       "    </tr>\n",
       "    <tr>\n",
       "      <th>284</th>\n",
       "      <td>546f993e498efe71ca2acd25</td>\n",
       "      <td>Barcelona Wine Bar</td>\n",
       "      <td>147</td>\n",
       "      <td>12023 Town Square St</td>\n",
       "      <td>38.957037</td>\n",
       "      <td>-77.359718</td>\n",
       "      <td>8.0</td>\n",
       "      <td>31</td>\n",
       "      <td>2.0</td>\n",
       "      <td>9.1</td>\n",
       "    </tr>\n",
       "    <tr>\n",
       "      <th>245</th>\n",
       "      <td>546f993e498efe71ca2acd25</td>\n",
       "      <td>Barcelona Wine Bar</td>\n",
       "      <td>409</td>\n",
       "      <td>12023 Town Square St</td>\n",
       "      <td>38.955340</td>\n",
       "      <td>-77.357611</td>\n",
       "      <td>3.0</td>\n",
       "      <td>27</td>\n",
       "      <td>2.0</td>\n",
       "      <td>9.1</td>\n",
       "    </tr>\n",
       "    <tr>\n",
       "      <th>17</th>\n",
       "      <td>57f54f01498efb4067677e58</td>\n",
       "      <td>Commonwealth Joe Coffee Roasters</td>\n",
       "      <td>569</td>\n",
       "      <td>520 12th St S</td>\n",
       "      <td>38.865553</td>\n",
       "      <td>-77.050030</td>\n",
       "      <td>8.0</td>\n",
       "      <td>3</td>\n",
       "      <td>1.0</td>\n",
       "      <td>9.1</td>\n",
       "    </tr>\n",
       "    <tr>\n",
       "      <th>82</th>\n",
       "      <td>524f505f498e802a4fd04854</td>\n",
       "      <td>Kaldi's Social House</td>\n",
       "      <td>604</td>\n",
       "      <td>918 Silver Spring Ave</td>\n",
       "      <td>38.997033</td>\n",
       "      <td>-77.025608</td>\n",
       "      <td>9.0</td>\n",
       "      <td>9</td>\n",
       "      <td>2.0</td>\n",
       "      <td>9.1</td>\n",
       "    </tr>\n",
       "  </tbody>\n",
       "</table>\n",
       "</div>"
      ],
      "text/plain": [
       "                       fsq_id                              name  distance  \\\n",
       "450  5329cfc411d2ac08fecb088f                     Italian Store       633   \n",
       "353  5e175e1c20e1b00008689d2d                    Paris Baguette       916   \n",
       "214  5e175e1c20e1b00008689d2d                    Paris Baguette       218   \n",
       "255  546f993e498efe71ca2acd25                Barcelona Wine Bar       254   \n",
       "278  546f993e498efe71ca2acd25                Barcelona Wine Bar       681   \n",
       "308  546f993e498efe71ca2acd25                Barcelona Wine Bar       859   \n",
       "284  546f993e498efe71ca2acd25                Barcelona Wine Bar       147   \n",
       "245  546f993e498efe71ca2acd25                Barcelona Wine Bar       409   \n",
       "17   57f54f01498efb4067677e58  Commonwealth Joe Coffee Roasters       569   \n",
       "82   524f505f498e802a4fd04854              Kaldi's Social House       604   \n",
       "\n",
       "          location.address  station latitude  station longitude  \\\n",
       "450   5837 Washington Blvd         38.880992         -77.135271   \n",
       "353          8344 Broad St         38.928919         -77.225394   \n",
       "214          8344 Broad St         38.922450         -77.230340   \n",
       "255   12023 Town Square St         38.959633         -77.358741   \n",
       "278   12023 Town Square St         38.960084         -77.353414   \n",
       "308   12023 Town Square St         38.955079         -77.351649   \n",
       "284   12023 Town Square St         38.957037         -77.359718   \n",
       "245   12023 Town Square St         38.955340         -77.357611   \n",
       "17           520 12th St S         38.865553         -77.050030   \n",
       "82   918 Silver Spring Ave         38.997033         -77.025608   \n",
       "\n",
       "     number of bikes  station id  price  rating  \n",
       "450              8.0          48    2.0     9.4  \n",
       "353              1.0          38    1.0     9.2  \n",
       "214              1.0          24    1.0     9.2  \n",
       "255              6.0          28    2.0     9.1  \n",
       "278              0.0          30    2.0     9.1  \n",
       "308              5.0          33    2.0     9.1  \n",
       "284              8.0          31    2.0     9.1  \n",
       "245              3.0          27    2.0     9.1  \n",
       "17               8.0           3    1.0     9.1  \n",
       "82               9.0           9    2.0     9.1  "
      ]
     },
     "execution_count": 13,
     "metadata": {},
     "output_type": "execute_result"
    }
   ],
   "source": [
    "foursquare_df.sort_values(by = 'rating',ascending=False)[:10]"
   ]
  },
  {
   "cell_type": "code",
   "execution_count": 14,
   "metadata": {
    "tags": []
   },
   "outputs": [
    {
     "data": {
      "text/html": [
       "<div>\n",
       "<style scoped>\n",
       "    .dataframe tbody tr th:only-of-type {\n",
       "        vertical-align: middle;\n",
       "    }\n",
       "\n",
       "    .dataframe tbody tr th {\n",
       "        vertical-align: top;\n",
       "    }\n",
       "\n",
       "    .dataframe thead th {\n",
       "        text-align: right;\n",
       "    }\n",
       "</style>\n",
       "<table border=\"1\" class=\"dataframe\">\n",
       "  <thead>\n",
       "    <tr style=\"text-align: right;\">\n",
       "      <th></th>\n",
       "      <th>name</th>\n",
       "      <th>review_count</th>\n",
       "      <th>rating</th>\n",
       "      <th>distance</th>\n",
       "      <th>price</th>\n",
       "      <th>location.address1</th>\n",
       "      <th>station latitude</th>\n",
       "      <th>station longitude</th>\n",
       "      <th>number of bikes</th>\n",
       "      <th>station id</th>\n",
       "    </tr>\n",
       "  </thead>\n",
       "  <tbody>\n",
       "    <tr>\n",
       "      <th>48</th>\n",
       "      <td>Paramount Cafe</td>\n",
       "      <td>338</td>\n",
       "      <td>10.0</td>\n",
       "      <td>639.746063</td>\n",
       "      <td>1.0</td>\n",
       "      <td>1425 S Eads St</td>\n",
       "      <td>38.865553</td>\n",
       "      <td>-77.050030</td>\n",
       "      <td>8.0</td>\n",
       "      <td>3</td>\n",
       "    </tr>\n",
       "    <tr>\n",
       "      <th>118</th>\n",
       "      <td>Slider Rider</td>\n",
       "      <td>80</td>\n",
       "      <td>10.0</td>\n",
       "      <td>877.502944</td>\n",
       "      <td>1.0</td>\n",
       "      <td>8600 Zetts Ave</td>\n",
       "      <td>39.114688</td>\n",
       "      <td>-77.171487</td>\n",
       "      <td>9.0</td>\n",
       "      <td>6</td>\n",
       "    </tr>\n",
       "    <tr>\n",
       "      <th>97</th>\n",
       "      <td>Taste of Eurasia</td>\n",
       "      <td>68</td>\n",
       "      <td>10.0</td>\n",
       "      <td>732.028379</td>\n",
       "      <td>2.0</td>\n",
       "      <td>428 A Hume Ave</td>\n",
       "      <td>38.833077</td>\n",
       "      <td>-77.059821</td>\n",
       "      <td>11.0</td>\n",
       "      <td>5</td>\n",
       "    </tr>\n",
       "    <tr>\n",
       "      <th>219</th>\n",
       "      <td>Delhi Spice</td>\n",
       "      <td>46</td>\n",
       "      <td>10.0</td>\n",
       "      <td>608.155642</td>\n",
       "      <td>2.0</td>\n",
       "      <td>4925 Bethesda Ave</td>\n",
       "      <td>38.977093</td>\n",
       "      <td>-77.094589</td>\n",
       "      <td>2.0</td>\n",
       "      <td>12</td>\n",
       "    </tr>\n",
       "    <tr>\n",
       "      <th>113</th>\n",
       "      <td>Taqueria Andrea’s Grill</td>\n",
       "      <td>34</td>\n",
       "      <td>10.0</td>\n",
       "      <td>734.031032</td>\n",
       "      <td>NaN</td>\n",
       "      <td>15701 Frederick Rd</td>\n",
       "      <td>39.114688</td>\n",
       "      <td>-77.171487</td>\n",
       "      <td>9.0</td>\n",
       "      <td>6</td>\n",
       "    </tr>\n",
       "    <tr>\n",
       "      <th>335</th>\n",
       "      <td>Old Hat Bar</td>\n",
       "      <td>33</td>\n",
       "      <td>10.0</td>\n",
       "      <td>354.507650</td>\n",
       "      <td>NaN</td>\n",
       "      <td>112 N Saint Asaph St</td>\n",
       "      <td>38.805317</td>\n",
       "      <td>-77.049883</td>\n",
       "      <td>15.0</td>\n",
       "      <td>17</td>\n",
       "    </tr>\n",
       "    <tr>\n",
       "      <th>275</th>\n",
       "      <td>Old Hat Bar</td>\n",
       "      <td>33</td>\n",
       "      <td>10.0</td>\n",
       "      <td>617.792923</td>\n",
       "      <td>NaN</td>\n",
       "      <td>112 N Saint Asaph St</td>\n",
       "      <td>38.805648</td>\n",
       "      <td>-77.052930</td>\n",
       "      <td>13.0</td>\n",
       "      <td>14</td>\n",
       "    </tr>\n",
       "    <tr>\n",
       "      <th>315</th>\n",
       "      <td>Old Hat Bar</td>\n",
       "      <td>33</td>\n",
       "      <td>10.0</td>\n",
       "      <td>230.196276</td>\n",
       "      <td>NaN</td>\n",
       "      <td>112 N Saint Asaph St</td>\n",
       "      <td>38.804718</td>\n",
       "      <td>-77.043363</td>\n",
       "      <td>6.0</td>\n",
       "      <td>16</td>\n",
       "    </tr>\n",
       "    <tr>\n",
       "      <th>296</th>\n",
       "      <td>Old Hat Bar</td>\n",
       "      <td>33</td>\n",
       "      <td>10.0</td>\n",
       "      <td>1174.103863</td>\n",
       "      <td>NaN</td>\n",
       "      <td>112 N Saint Asaph St</td>\n",
       "      <td>38.814577</td>\n",
       "      <td>-77.052808</td>\n",
       "      <td>2.0</td>\n",
       "      <td>15</td>\n",
       "    </tr>\n",
       "    <tr>\n",
       "      <th>33</th>\n",
       "      <td>Cheros Grill</td>\n",
       "      <td>24</td>\n",
       "      <td>10.0</td>\n",
       "      <td>1111.918761</td>\n",
       "      <td>NaN</td>\n",
       "      <td>7224 Carroll Ave</td>\n",
       "      <td>38.986743</td>\n",
       "      <td>-77.000035</td>\n",
       "      <td>7.0</td>\n",
       "      <td>2</td>\n",
       "    </tr>\n",
       "  </tbody>\n",
       "</table>\n",
       "</div>"
      ],
      "text/plain": [
       "                        name  review_count  rating     distance  price  \\\n",
       "48            Paramount Cafe           338    10.0   639.746063    1.0   \n",
       "118             Slider Rider            80    10.0   877.502944    1.0   \n",
       "97          Taste of Eurasia            68    10.0   732.028379    2.0   \n",
       "219              Delhi Spice            46    10.0   608.155642    2.0   \n",
       "113  Taqueria Andrea’s Grill            34    10.0   734.031032    NaN   \n",
       "335              Old Hat Bar            33    10.0   354.507650    NaN   \n",
       "275              Old Hat Bar            33    10.0   617.792923    NaN   \n",
       "315              Old Hat Bar            33    10.0   230.196276    NaN   \n",
       "296              Old Hat Bar            33    10.0  1174.103863    NaN   \n",
       "33              Cheros Grill            24    10.0  1111.918761    NaN   \n",
       "\n",
       "        location.address1  station latitude  station longitude  \\\n",
       "48         1425 S Eads St         38.865553         -77.050030   \n",
       "118        8600 Zetts Ave         39.114688         -77.171487   \n",
       "97         428 A Hume Ave         38.833077         -77.059821   \n",
       "219     4925 Bethesda Ave         38.977093         -77.094589   \n",
       "113    15701 Frederick Rd         39.114688         -77.171487   \n",
       "335  112 N Saint Asaph St         38.805317         -77.049883   \n",
       "275  112 N Saint Asaph St         38.805648         -77.052930   \n",
       "315  112 N Saint Asaph St         38.804718         -77.043363   \n",
       "296  112 N Saint Asaph St         38.814577         -77.052808   \n",
       "33       7224 Carroll Ave         38.986743         -77.000035   \n",
       "\n",
       "     number of bikes  station id  \n",
       "48               8.0           3  \n",
       "118              9.0           6  \n",
       "97              11.0           5  \n",
       "219              2.0          12  \n",
       "113              9.0           6  \n",
       "335             15.0          17  \n",
       "275             13.0          14  \n",
       "315              6.0          16  \n",
       "296              2.0          15  \n",
       "33               7.0           2  "
      ]
     },
     "execution_count": 14,
     "metadata": {},
     "output_type": "execute_result"
    }
   ],
   "source": [
    "yelp_df.sort_values(by = ['rating','review_count','number of bikes'],ascending=False)[:10]"
   ]
  },
  {
   "cell_type": "code",
   "execution_count": null,
   "metadata": {},
   "outputs": [],
   "source": []
  }
 ],
 "metadata": {
  "kernelspec": {
   "display_name": "Python 3 (ipykernel)",
   "language": "python",
   "name": "python3"
  },
  "language_info": {
   "codemirror_mode": {
    "name": "ipython",
    "version": 3
   },
   "file_extension": ".py",
   "mimetype": "text/x-python",
   "name": "python",
   "nbconvert_exporter": "python",
   "pygments_lexer": "ipython3",
   "version": "3.11.3"
  }
 },
 "nbformat": 4,
 "nbformat_minor": 4
}
